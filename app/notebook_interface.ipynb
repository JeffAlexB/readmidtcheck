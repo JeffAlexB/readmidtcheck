{
 "cells": [
  {
   "cell_type": "code",
   "id": "initial_id",
   "metadata": {
    "collapsed": true,
    "ExecuteTime": {
     "end_time": "2025-04-25T18:27:44.933865Z",
     "start_time": "2025-04-25T18:27:44.822688Z"
    }
   },
   "source": [
    "# Setup & Imports\n",
    "import sys\n",
    "import os\n",
    "sys.path.append(os.path.abspath(\"..\"))\n",
    "\n",
    "import pandas as pd\n",
    "import joblib\n",
    "import ipywidgets as widgets\n",
    "import seaborn as sns\n",
    "import matplotlib.pyplot as plt\n",
    "from IPython.display import display, clear_output, Markdown\n",
    "from utils.preprocessing import preprocess_features\n",
    "\n",
    "# Load the pre-trained model\n",
    "model = joblib.load(\"../model/model/readmission_rf_model.pkl\")"
   ],
   "outputs": [],
   "execution_count": 28
  },
  {
   "metadata": {},
   "cell_type": "code",
   "outputs": [],
   "execution_count": null,
   "source": [
    "# Load prediction results for visualization\n",
    "\n",
    "df_results = pd.read_csv(\"../model/output/risk_tiered_predictions.csv\")"
   ],
   "id": "31a8e1ad10b1c9b3"
  },
  {
   "metadata": {
    "ExecuteTime": {
     "end_time": "2025-04-25T18:51:38.225187Z",
     "start_time": "2025-04-25T18:51:38.210692Z"
    }
   },
   "cell_type": "code",
   "source": [
    "# Title & Instructions\n",
    "# Patient Input Widgets\n",
    "\n",
    "import ipywidgets as widgets\n",
    "from IPython.display import display, Markdown, clear_output\n",
    "\n",
    "# Create Widgets\n",
    "age_slider = widgets.IntSlider(description='Age', min=0, max=100, value=50,style={'description_width': 'initial'})\n",
    "gender_dropdown = widgets.Dropdown(description='Gender', options=['Male', 'Female'],style={'description_width': 'initial'})\n",
    "diagnosis_dropdown = widgets.Dropdown(description='Primary Diagnosis', options=['Heart Disease', 'COPD', 'Diabetes', 'Kidney Disease'],style={'description_width': 'initial'})\n",
    "procedures_slider = widgets.IntSlider(description='Number of Procedures', min=0, max=10, value=1,style={'description_width': 'initial'})\n",
    "days_in_hospital_slider = widgets.IntSlider(description='Days in Hospital', min=1, max=30, value=5,style={'description_width': 'initial'})\n",
    "comorbidity_slider = widgets.IntSlider( description='Comorbidity Score', min=0, max=5, value=1,style={'description_width': 'initial'})\n",
    "discharge_dropdown = widgets.Dropdown(description='Discharge To', options=['Home', 'Home Health Care', 'Rehabilitation Facility', 'Skilled Nursing Facility'],style={'description_width': 'initial'})\n",
    "\n",
    "form = widgets.VBox([\n",
    "    age_slider,\n",
    "    gender_dropdown,\n",
    "    diagnosis_dropdown,\n",
    "    procedures_slider,\n",
    "    days_in_hospital_slider,\n",
    "    comorbidity_slider,\n",
    "    discharge_dropdown\n",
    "], layout=widgets.Layout(\n",
    "    border='2px solid lightgray',\n",
    "    padding='20px',\n",
    "    margin='10px',\n",
    "    width='600px',\n",
    "    background_color='whitesmoke'  # Light background for clean UI\n",
    "))\n",
    "\n",
    "display(Markdown(\"## Enter Patient Information Below:\"))\n",
    "display(form)"
   ],
   "id": "9b8ef6992f32f159",
   "outputs": [],
   "execution_count": 35
  },
  {
   "metadata": {
    "ExecuteTime": {
     "end_time": "2025-04-25T18:28:13.106900Z",
     "start_time": "2025-04-25T18:28:13.104275Z"
    }
   },
   "cell_type": "code",
   "source": [
    "# Define Callback Function\n",
    "output_area = widgets.Output()\n",
    "\n",
    "def predict_risk(b):\n",
    "    output_area.clear_output()\n",
    "    with output_area:\n",
    "        # Collect inputs\n",
    "        input_data = {\n",
    "            'age': age_slider.value,\n",
    "            'gender': gender_dropdown.value,\n",
    "            'primary_diagnosis': diagnosis_dropdown.value,\n",
    "            'num_procedures': procedures_slider.value,\n",
    "            'days_in_hospital': days_in_hospital_slider.value,\n",
    "            'comorbidity_score': comorbidity_slider.value,\n",
    "            'discharge_to': discharge_dropdown.value\n",
    "        }\n",
    "        input_df = pd.DataFrame([input_data])\n",
    "        processed_input = preprocess_features(input_df)\n",
    "        prob = model.predict_proba(processed_input)[:,1][0]\n",
    "\n",
    "        # Determine Risk Tier\n",
    "        if prob >= 0.6:\n",
    "            tier = \"High\"\n",
    "        elif prob >= 0.3:\n",
    "            tier = \"Medium\"\n",
    "        else:\n",
    "            tier = \"Low\"\n",
    "\n",
    "        # Display Prediction\n",
    "        display(Markdown(f\"### Predicted 30-Day Readmission Risk Score: **{prob:.2f}**\"))\n",
    "        display(Markdown(f\"### Predicted Risk Tier: **{tier}**\"))\n",
    "\n",
    "# Predict Button\n",
    "predict_button = widgets.Button(\n",
    "    description=\"Predict Risk\",\n",
    "    button_style='success',  # Green button\n",
    "    tooltip='Click to predict risk'\n",
    ")\n",
    "\n",
    "predict_button.on_click(predict_risk)\n",
    "\n",
    "display(predict_button)\n",
    "display(output_area)"
   ],
   "id": "47b125e6b6a8ddaa",
   "outputs": [],
   "execution_count": 31
  },
  {
   "metadata": {
    "ExecuteTime": {
     "end_time": "2025-04-25T20:49:39.709706Z",
     "start_time": "2025-04-25T20:49:39.352964Z"
    }
   },
   "cell_type": "code",
   "source": [
    "# Model Evaluation Visualizations\n",
    "from sklearn.inspection import permutation_importance\n",
    "from sklearn.metrics import roc_curve, roc_auc_score\n",
    "\n",
    "display(Markdown(\"# Model Evaluation Summary\"))\n",
    "df_results = pd.read_csv(\"../model/output/risk_tiered_predictions.csv\")\n",
    "\n",
    "display(Markdown(\"### ROC Curve\"))\n",
    "fpr, tpr, _ = roc_curve(df_results['actual_readmission'], df_results['readmission_probability'])\n",
    "auc_score = roc_auc_score(df_results['actual_readmission'], df_results['readmission_probability'])\n",
    "plt.figure(figsize=(8,6))\n",
    "plt.plot(fpr, tpr, label=f'AUC = {auc_score:.2f}')\n",
    "plt.plot([0,1], [0,1], 'k--')\n",
    "plt.title('ROC Curve (Validation Set)')\n",
    "plt.xlabel('False Positive Rate')\n",
    "plt.ylabel('True Positive Rate')\n",
    "plt.legend()\n",
    "plt.grid(True)\n",
    "plt.tight_layout()\n",
    "plt.show()\n",
    "display(Markdown(\"**Why this matters:** A higher AUC indicates better model ability to separate high-risk patients.\"))\n",
    "\n",
    "# Feature Importance\n",
    "display(Markdown(\"### Feature Importance\"))\n",
    "df_raw = pd.read_csv(\"../model/output/risk_tiered_predictions.csv\")\n",
    "X_raw = df_raw.drop(columns=[\"readmitted\"])\n",
    "y_raw = df_raw[\"readmitted\"]\n",
    "X_processed = preprocess_features(X_raw)\n",
    "\n",
    "perm = permutation_importance(model, X_processed, y_raw, n_repeats=5, random_state=42)\n",
    "importance_df = pd.DataFrame({\n",
    "    'Feature': X_processed.columns,\n",
    "    'Importance': perm.importances_mean\n",
    "}).sort_values(by='Importance', ascending=False)\n",
    "\n",
    "plt.figure(figsize=(10,6))\n",
    "sns.barplot(data=importance_df, x='Importance', y='Feature')\n",
    "plt.title('Feature Importance via Permutation')\n",
    "plt.tight_layout()\n",
    "plt.show()\n",
    "\n",
    "display(Markdown(\"**Why this matters:** Understanding important features helps explain how predictions are made.\"))\n",
    "\n",
    "# Boxplot Risk Score\n",
    "display(Markdown(\"### Risk Score Distribution\"))\n",
    "plt.figure(figsize=(8,5))\n",
    "sns.boxplot(data=df_results, x='actual_readmission', y='readmission_probability')\n",
    "plt.title('Risk Scores by Actual Outcome')\n",
    "plt.grid(True)\n",
    "plt.tight_layout()\n",
    "plt.show()\n",
    "\n",
    "display(Markdown(\"**Why this matters:** Boxplots show how scores separate between true readmissions and non-readmissions.\"))\n",
    "\n",
    "# Countplot Risk Tier\n",
    "display(Markdown(\"### Risk Tier Breakdown\"))\n",
    "sns.countplot(data=df_results, x='risk_tier', hue='actual_readmission')\n",
    "plt.title('Risk Tier Breakdown')\n",
    "plt.xlabel('Predicted Risk Tier')\n",
    "plt.ylabel('Number of Patients')\n",
    "plt.grid(True)\n",
    "plt.tight_layout()\n",
    "plt.show()\n",
    "\n",
    "display(Markdown(\"**Why this matters:** Confirms whether the assigned tiers correspond well to actual patient outcomes.\"))\n"
   ],
   "id": "df6bd91393a4a70c",
   "outputs": [
    {
     "ename": "NameError",
     "evalue": "name 'Markdown' is not defined",
     "output_type": "error",
     "traceback": [
      "\u001B[31m---------------------------------------------------------------------------\u001B[39m",
      "\u001B[31mNameError\u001B[39m                                 Traceback (most recent call last)",
      "\u001B[36mCell\u001B[39m\u001B[36m \u001B[39m\u001B[32mIn[1]\u001B[39m\u001B[32m, line 6\u001B[39m\n\u001B[32m      2\u001B[39m \u001B[38;5;28;01mfrom\u001B[39;00m\u001B[38;5;250m \u001B[39m\u001B[34;01msklearn\u001B[39;00m\u001B[34;01m.\u001B[39;00m\u001B[34;01minspection\u001B[39;00m\u001B[38;5;250m \u001B[39m\u001B[38;5;28;01mimport\u001B[39;00m permutation_importance\n\u001B[32m      4\u001B[39m \u001B[38;5;66;03m# Model Evaluation Visualizations\u001B[39;00m\n\u001B[32m----> \u001B[39m\u001B[32m6\u001B[39m display(\u001B[43mMarkdown\u001B[49m(\u001B[33m\"\u001B[39m\u001B[33m# Model Evaluation Summary\u001B[39m\u001B[33m\"\u001B[39m))\n\u001B[32m      8\u001B[39m \u001B[38;5;66;03m# ROC Curve\u001B[39;00m\n\u001B[32m      9\u001B[39m df_results = pd.read_csv(\u001B[33m\"\u001B[39m\u001B[33m../model/output/risk_tiered_predictions.csv\u001B[39m\u001B[33m\"\u001B[39m)\n",
      "\u001B[31mNameError\u001B[39m: name 'Markdown' is not defined"
     ]
    }
   ],
   "execution_count": 1
  },
  {
   "metadata": {
    "ExecuteTime": {
     "end_time": "2025-04-25T18:21:32.812269Z",
     "start_time": "2025-04-25T18:21:32.809282Z"
    }
   },
   "cell_type": "code",
   "source": [
    "display(Markdown(\"# Summary & Reflection\"))\n",
    "\n",
    "from IPython.display import Markdown\n",
    "\n",
    "Markdown('''\n",
    "### Summary & Reflection\n",
    "This notebook demonstrates an interactive 30-day hospital readmission risk prediction tool using a Random Forest classifier calibrated on synthetic healthcare data. The interface allows users to input patient features and receive a risk score and tier classification.\n",
    "\n",
    "- **Model Accuracy**: Acceptable, with ROC AUC ~0.70-0.88 depending on configuration.\n",
    "- **High-risk Tier**: Captures 28.6% true readmissions — strongest performing group.\n",
    "- **Limitations**: Some edge cases (e.g., elderly with multiple comorbidities) may be misclassified.\n",
    "\n",
    "### Future Improvements\n",
    "- Incorporate temporal trends and diagnoses history\n",
    "- Improve score calibration for high-complexity patients\n",
    "- Integrate user feedback for retraining loop\n",
    "\n",
    "This should fulfill the functional and interactive components of the CS capstone and has potential to be extended into a hosted or production-ready tool with additional development.\n",
    "''')\n"
   ],
   "id": "c33df09b746949d1",
   "outputs": [
    {
     "data": {
      "text/plain": [
       "<IPython.core.display.Markdown object>"
      ],
      "text/markdown": "\n### Summary & Reflection\nThis notebook demonstrates an interactive 30-day hospital readmission risk prediction tool using a Random Forest classifier calibrated on synthetic healthcare data. The interface allows users to input patient features and receive a risk score and tier classification.\n\n- **Model Accuracy**: Acceptable, with ROC AUC ~0.70-0.88 depending on configuration.\n- **High-risk Tier**: Captures 28.6% true readmissions — strongest performing group.\n- **Limitations**: Some edge cases (e.g., elderly with multiple comorbidities) may be misclassified.\n\n### Future Improvements\n- Incorporate temporal trends and diagnoses history\n- Improve score calibration for high-complexity patients\n- Integrate user feedback for retraining loop\n\nThis should fulfill the functional and interactive components of the CS capstone and has potential to be extended into a hosted or production-ready tool with additional development.\n"
     },
     "execution_count": 19,
     "metadata": {},
     "output_type": "execute_result"
    }
   ],
   "execution_count": 19
  }
 ],
 "metadata": {
  "kernelspec": {
   "display_name": "Python 3",
   "language": "python",
   "name": "python3"
  },
  "language_info": {
   "codemirror_mode": {
    "name": "ipython",
    "version": 2
   },
   "file_extension": ".py",
   "mimetype": "text/x-python",
   "name": "python",
   "nbconvert_exporter": "python",
   "pygments_lexer": "ipython2",
   "version": "2.7.6"
  }
 },
 "nbformat": 4,
 "nbformat_minor": 5
}
