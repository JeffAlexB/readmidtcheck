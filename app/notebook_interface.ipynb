{
 "cells": [
  {
   "cell_type": "code",
   "id": "initial_id",
   "metadata": {
    "collapsed": true,
    "ExecuteTime": {
     "end_time": "2025-04-24T19:57:27.204511Z",
     "start_time": "2025-04-24T19:57:26.882227Z"
    }
   },
   "source": [
    "# Cell 1: Setup & Imports\n",
    "import pandas as pd\n",
    "import joblib\n",
    "import ipywidgets as widgets\n",
    "from IPython.display import display, clear_output\n",
    "from utils.preprocessing import preprocess_features\n",
    "\n",
    "model = joblib.load(\"../model/model/readmission_rf_model.pkl\")"
   ],
   "outputs": [],
   "execution_count": 3
  },
  {
   "metadata": {
    "ExecuteTime": {
     "end_time": "2025-04-24T19:57:31.346382Z",
     "start_time": "2025-04-24T19:57:31.337955Z"
    }
   },
   "cell_type": "code",
   "source": [
    "# Cell 2: Define Input Widgets\n",
    "age = widgets.IntSlider(value=65, min=18, max=100, description='Age:')\n",
    "gender = widgets.Dropdown(options=['Male', 'Female'], description='Gender:')\n",
    "primary_diagnosis = widgets.Dropdown(\n",
    "    options=['Heart Disease', 'COPD', 'Diabetes', 'Kidney Disease'],\n",
    "    description='Diagnosis:'\n",
    ")\n",
    "num_procedures = widgets.IntSlider(min=0, max=10, description='Procedures:')\n",
    "days_in_hospital = widgets.IntSlider(min=1, max=20, description='Days:')\n",
    "comorbidity_score = widgets.IntSlider(min=0, max=4, description='Comorbidity:')\n",
    "discharge_to = widgets.Dropdown(\n",
    "    options=['Home', 'Home Health Care', 'Rehabilitation Facility', 'Skilled Nursing Facility'],\n",
    "    description='Discharge:'\n",
    ")"
   ],
   "id": "9b8ef6992f32f159",
   "outputs": [],
   "execution_count": 4
  },
  {
   "metadata": {
    "ExecuteTime": {
     "end_time": "2025-04-24T19:57:33.983132Z",
     "start_time": "2025-04-24T19:57:33.979436Z"
    }
   },
   "cell_type": "code",
   "source": [
    "# Cell 3: Create Predict Button & Output Area\n",
    "button = widgets.Button(description=\"Predict Risk\")\n",
    "output = widgets.Output()"
   ],
   "id": "5e1d2b3eb15d029b",
   "outputs": [],
   "execution_count": 5
  },
  {
   "metadata": {
    "ExecuteTime": {
     "end_time": "2025-04-24T19:57:36.005949Z",
     "start_time": "2025-04-24T19:57:35.995375Z"
    }
   },
   "cell_type": "code",
   "source": [
    "# Cell 4: Display Widgets\n",
    "display(age, gender, primary_diagnosis, num_procedures, days_in_hospital,\n",
    "        comorbidity_score, discharge_to, button, output)"
   ],
   "id": "ba18fe1a3868334d",
   "outputs": [
    {
     "data": {
      "text/plain": [
       "IntSlider(value=65, description='Age:', min=18)"
      ],
      "application/vnd.jupyter.widget-view+json": {
       "version_major": 2,
       "version_minor": 0,
       "model_id": "4d0da1497bf24a88b29c24b756af1abb"
      }
     },
     "metadata": {},
     "output_type": "display_data"
    },
    {
     "data": {
      "text/plain": [
       "Dropdown(description='Gender:', options=('Male', 'Female'), value='Male')"
      ],
      "application/vnd.jupyter.widget-view+json": {
       "version_major": 2,
       "version_minor": 0,
       "model_id": "f989e95d3bc14c25a2b91aef3146af70"
      }
     },
     "metadata": {},
     "output_type": "display_data"
    },
    {
     "data": {
      "text/plain": [
       "Dropdown(description='Diagnosis:', options=('Heart Disease', 'COPD', 'Diabetes', 'Kidney Disease'), value='Hea…"
      ],
      "application/vnd.jupyter.widget-view+json": {
       "version_major": 2,
       "version_minor": 0,
       "model_id": "207a5b4c833e4b9a9e215e6a38d374f5"
      }
     },
     "metadata": {},
     "output_type": "display_data"
    },
    {
     "data": {
      "text/plain": [
       "IntSlider(value=0, description='Procedures:', max=10)"
      ],
      "application/vnd.jupyter.widget-view+json": {
       "version_major": 2,
       "version_minor": 0,
       "model_id": "288f6023112744fc8398f3af2743e0d4"
      }
     },
     "metadata": {},
     "output_type": "display_data"
    },
    {
     "data": {
      "text/plain": [
       "IntSlider(value=1, description='Days:', max=20, min=1)"
      ],
      "application/vnd.jupyter.widget-view+json": {
       "version_major": 2,
       "version_minor": 0,
       "model_id": "5d8ac7a568b84105843e598059825e5a"
      }
     },
     "metadata": {},
     "output_type": "display_data"
    },
    {
     "data": {
      "text/plain": [
       "IntSlider(value=0, description='Comorbidity:', max=4)"
      ],
      "application/vnd.jupyter.widget-view+json": {
       "version_major": 2,
       "version_minor": 0,
       "model_id": "48bec342edbe4cf58c6a5144e523334b"
      }
     },
     "metadata": {},
     "output_type": "display_data"
    },
    {
     "data": {
      "text/plain": [
       "Dropdown(description='Discharge:', options=('Home', 'Home Health Care', 'Rehabilitation Facility', 'Skilled Nu…"
      ],
      "application/vnd.jupyter.widget-view+json": {
       "version_major": 2,
       "version_minor": 0,
       "model_id": "b6b9856b10ca4efba05d977da02d70d0"
      }
     },
     "metadata": {},
     "output_type": "display_data"
    },
    {
     "data": {
      "text/plain": [
       "Button(description='Predict Risk', style=ButtonStyle())"
      ],
      "application/vnd.jupyter.widget-view+json": {
       "version_major": 2,
       "version_minor": 0,
       "model_id": "54fb984a9ef14585b1ed7da616e3f7d2"
      }
     },
     "metadata": {},
     "output_type": "display_data"
    },
    {
     "data": {
      "text/plain": [
       "Output()"
      ],
      "application/vnd.jupyter.widget-view+json": {
       "version_major": 2,
       "version_minor": 0,
       "model_id": "b305edfd3b2e4751b1292fd0c50a3b7b"
      }
     },
     "metadata": {},
     "output_type": "display_data"
    }
   ],
   "execution_count": 6
  },
  {
   "metadata": {
    "ExecuteTime": {
     "end_time": "2025-04-24T19:57:54.181710Z",
     "start_time": "2025-04-24T19:57:54.174694Z"
    }
   },
   "cell_type": "code",
   "source": [
    "# Cell 5: Define Callback Function\n",
    "\n",
    "def predict_callback(b):\n",
    "    with output:\n",
    "        clear_output()\n",
    "        input_df = pd.DataFrame([{\n",
    "            'age': age.value,\n",
    "            'gender': gender.value,\n",
    "            'primary_diagnosis': primary_diagnosis.value,\n",
    "            'num_procedures': num_procedures.value,\n",
    "            'days_in_hospital': days_in_hospital.value,\n",
    "            'comorbidity_score': comorbidity_score.value,\n",
    "            'discharge_to': discharge_to.value\n",
    "        }])\n",
    "\n",
    "        processed_input = preprocess_features(input_df)\n",
    "        score = model.predict_proba(processed_input)[:, 1][0]\n",
    "\n",
    "        if score > 0.85:\n",
    "            tier = \"High\"\n",
    "        elif score > 0.50:\n",
    "            tier = \"Medium\"\n",
    "        else:\n",
    "            tier = \"Low\"\n",
    "\n",
    "        print(f\"[✓] Risk Score: {score:.2f}\")\n",
    "        print(f\"[✓] Risk Tier: {tier}\")"
   ],
   "id": "47b125e6b6a8ddaa",
   "outputs": [],
   "execution_count": 7
  },
  {
   "metadata": {
    "ExecuteTime": {
     "end_time": "2025-04-24T19:58:09.591604Z",
     "start_time": "2025-04-24T19:58:09.588692Z"
    }
   },
   "cell_type": "code",
   "source": [
    "# Cell 6: Bind Callback to Button\n",
    "button.on_click(predict_callback)"
   ],
   "id": "b429df903be72959",
   "outputs": [],
   "execution_count": 9
  }
 ],
 "metadata": {
  "kernelspec": {
   "display_name": "Python 3",
   "language": "python",
   "name": "python3"
  },
  "language_info": {
   "codemirror_mode": {
    "name": "ipython",
    "version": 2
   },
   "file_extension": ".py",
   "mimetype": "text/x-python",
   "name": "python",
   "nbconvert_exporter": "python",
   "pygments_lexer": "ipython2",
   "version": "2.7.6"
  }
 },
 "nbformat": 4,
 "nbformat_minor": 5
}
